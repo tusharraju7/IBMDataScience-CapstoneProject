{
 "cells": [
  {
   "cell_type": "markdown",
   "metadata": {},
   "source": [
    "# Introduction"
   ]
  },
  {
   "cell_type": "markdown",
   "metadata": {},
   "source": [
    "   **Chennai** also known as **Madras** is the capital of the **Indian state of Tamil Nadu**. Chennai is among the **most-visited Indian cities by foreign tourists**. Tourism-guide publisher **Lonely Planet** named Chennai as **one of the top ten cities in the world to visit in 2015**. Chennai was ranked the **43rd-most visited city in the world** for the year 2015. The **Quality of Living Survey** rated Chennai as the **safest city in India**. Chennai attracts 45 percent of health tourists visiting India, and 30 to 40 percent of domestic health tourists. **National Geographic** mentioned Chennai as the **only South Asian city** to feature in its 2015 **\"Top 10 food cities\"** list. Chennai was also named the **ninth-best cosmopolitan city in the world** by Lonely Planet. In October 2017, Chennai was added to the **UNESCO Creative Cities Network (UCCN) list for its rich musical tradition**."
   ]
  },
  {
   "cell_type": "markdown",
   "metadata": {},
   "source": [
    "### Business Problem"
   ]
  },
  {
   "cell_type": "markdown",
   "metadata": {},
   "source": [
    "In recent days, the **tourism of this beautiful city has decreased**. Tourism not only adds to the country's economy but is a core part of income. How do we increase tourism and bring back the popularity of the city ? In-order to achieve this, we need the **tourists to have a good experience and moreover a personalized one**. We can achieve this with the help of data science."
   ]
  },
  {
   "cell_type": "markdown",
   "metadata": {},
   "source": [
    "### Target Audience"
   ]
  },
  {
   "cell_type": "markdown",
   "metadata": {},
   "source": [
    "With all this tourist attraction taken into account, a system that can find a place suitable for the tourist to vist during their stay will be helpful. Our goal is to **identify places based on their rating & pricing** and make it visible to the tourists in-order for them **to choose a place to visit based on their budget and based on the venue's rating**.\n",
    "   \n",
    "   We will be clustering the places to visit based on the data we recieve from the **Foursquare API** & **Zomato API**."
   ]
  },
  {
   "cell_type": "markdown",
   "metadata": {},
   "source": [
    "# Data"
   ]
  },
  {
   "cell_type": "markdown",
   "metadata": {},
   "source": [
    "Our objective is to search within a **5km radius of Chennai** located at the **Latitude : 13.0827° N** & **Longitude : 80.2707° E**. Using the FoursquareAPI & ZomatoAPI the data mentioned below is retrieved. Based on the Venue Name, Latitude & Longitude obtained from the FoursquareAPI we request for data from the ZomatoAPI. We have collected a total of **119 Venues within a 5km radius** of the geographical co-ordinates of Chennai. Since we are using two datasets each from different API, there maybe some noise. In-order to clean this data, we are eliminating venues with latitude & longitude values more than 0.0004. On cleaning this data we are left with **74 venues** to obtain a working model."
   ]
  },
  {
   "cell_type": "markdown",
   "metadata": {},
   "source": [
    "The following data has been collected from the **FoursquareAPI** :\n",
    "* Venue Name\n",
    "* Category\n",
    "* Latitude\n",
    "* Longitude\n",
    "\n",
    "The following data has been collected from the **ZomatoAPI** :\n",
    "* Average Price for Two People\n",
    "* Price Range\n",
    "* Rating\n",
    "* Address"
   ]
  },
  {
   "cell_type": "markdown",
   "metadata": {},
   "source": [
    "### Example of Data"
   ]
  },
  {
   "cell_type": "code",
   "execution_count": 2,
   "metadata": {},
   "outputs": [
    {
     "data": {
      "text/html": [
       "<div>\n",
       "<style scoped>\n",
       "    .dataframe tbody tr th:only-of-type {\n",
       "        vertical-align: middle;\n",
       "    }\n",
       "\n",
       "    .dataframe tbody tr th {\n",
       "        vertical-align: top;\n",
       "    }\n",
       "\n",
       "    .dataframe thead th {\n",
       "        text-align: right;\n",
       "    }\n",
       "</style>\n",
       "<table border=\"1\" class=\"dataframe\">\n",
       "  <thead>\n",
       "    <tr style=\"text-align: right;\">\n",
       "      <th></th>\n",
       "      <th>Venue Name</th>\n",
       "      <th>Category</th>\n",
       "      <th>Latitude</th>\n",
       "      <th>Longitude</th>\n",
       "    </tr>\n",
       "  </thead>\n",
       "  <tbody>\n",
       "    <tr>\n",
       "      <th>0</th>\n",
       "      <td>Seena bhai tiffen centre</td>\n",
       "      <td>Restaurant</td>\n",
       "      <td>13.089670</td>\n",
       "      <td>80.278455</td>\n",
       "    </tr>\n",
       "    <tr>\n",
       "      <th>1</th>\n",
       "      <td>Escape Cinemas</td>\n",
       "      <td>Multiplex</td>\n",
       "      <td>13.058746</td>\n",
       "      <td>80.264170</td>\n",
       "    </tr>\n",
       "    <tr>\n",
       "      <th>2</th>\n",
       "      <td>Shree Mithai</td>\n",
       "      <td>Indian Restaurant</td>\n",
       "      <td>13.072118</td>\n",
       "      <td>80.247865</td>\n",
       "    </tr>\n",
       "  </tbody>\n",
       "</table>\n",
       "</div>"
      ],
      "text/plain": [
       "                 Venue Name           Category   Latitude  Longitude\n",
       "0  Seena bhai tiffen centre         Restaurant  13.089670  80.278455\n",
       "1            Escape Cinemas          Multiplex  13.058746  80.264170\n",
       "2              Shree Mithai  Indian Restaurant  13.072118  80.247865"
      ]
     },
     "execution_count": 2,
     "metadata": {},
     "output_type": "execute_result"
    }
   ],
   "source": [
    "import requests\n",
    "from pandas.io.json import json_normalize\n",
    "import pandas as pd\n",
    "\n",
    "client_id = 'SPJ5ZZH2JCBKLK3Y5HF51JBNPK5GGGPI2J43MDND3Z3MFD2L'\n",
    "client_secret = 'Y1J35FIYYFC1LUW3ATM0TVBTB1E3TVY4ALG2F2FZXSXYNCFB'\n",
    "version = '20180605'\n",
    "chennai_latitude = 13.0827\n",
    "chennai_longitude = 80.2707\n",
    "radius = 5000 #5KM\n",
    "limit = 3\n",
    "offset = 3\n",
    "fs_venues = pd.DataFrame(columns = ['name', 'categories', 'lat', 'lng'])\n",
    "\n",
    "def get_category_type(row):\n",
    "    try:\n",
    "        categories_list = row['categories']\n",
    "    except:\n",
    "        categories_list = row['venue.categories']\n",
    "        \n",
    "    if len(categories_list) == 0:\n",
    "        return None\n",
    "    else:\n",
    "        return categories_list[0]['name']\n",
    "\n",
    "while(True):\n",
    "    url = ('https://api.foursquare.com/v2/venues/explore?client_id={}'\n",
    "           '&client_secret={}&v={}&ll={},{}&radius={}&limit={}&offset={}').format(client_id, \n",
    "                                                                        client_secret, \n",
    "                                                                        version, \n",
    "                                                                        chennai_latitude, \n",
    "                                                                        chennai_longitude, \n",
    "                                                                        radius,\n",
    "                                                                        limit,\n",
    "                                                                        offset)\n",
    "    result = requests.get(url).json()\n",
    "    venues_fetched = len(result['response']['groups'][0]['items'])\n",
    "    venues = result['response']['groups'][0]['items']\n",
    "    venues = json_normalize(venues)\n",
    "\n",
    "    # Filter the columns\n",
    "    filtered_columns = ['venue.name', 'venue.categories', 'venue.location.lat', 'venue.location.lng']\n",
    "    venues = venues.loc[:, filtered_columns]\n",
    "    \n",
    "    # Filter the category for each row\n",
    "    venues['venue.categories'] = venues.apply(get_category_type, axis = 1)\n",
    "    \n",
    "    # Clean all column names\n",
    "    venues.columns = [col.split(\".\")[-1] for col in venues.columns]\n",
    "    fs_venues = pd.concat([fs_venues, venues], axis = 0, sort = False)\n",
    "    \n",
    "    if (venues_fetched < 100):\n",
    "        break\n",
    "    else:\n",
    "        offset = offset + 100\n",
    "\n",
    "fs_venues = fs_venues.reset_index(drop = True)\n",
    "fs_venues.rename(columns = {'name':'Venue Name','categories':'Category','lat':'Latitude','lng':'Longitude'})"
   ]
  }
 ],
 "metadata": {
  "kernelspec": {
   "display_name": "Python 3",
   "language": "python",
   "name": "python3"
  },
  "language_info": {
   "codemirror_mode": {
    "name": "ipython",
    "version": 3
   },
   "file_extension": ".py",
   "mimetype": "text/x-python",
   "name": "python",
   "nbconvert_exporter": "python",
   "pygments_lexer": "ipython3",
   "version": "3.7.3"
  }
 },
 "nbformat": 4,
 "nbformat_minor": 2
}
